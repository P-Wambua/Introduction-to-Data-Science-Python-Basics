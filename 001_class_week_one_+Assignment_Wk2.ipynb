{
  "cells": [
    {
      "cell_type": "markdown",
      "metadata": {
        "id": "view-in-github",
        "colab_type": "text"
      },
      "source": [
        "<a href=\"https://colab.research.google.com/github/P-Wambua/Introduction-to-Data-Science-Python-Basics/blob/main/001_class_week_one_%2BAssignment_Wk2.ipynb\" target=\"_parent\"><img src=\"https://colab.research.google.com/assets/colab-badge.svg\" alt=\"Open In Colab\"/></a>"
      ]
    },
    {
      "cell_type": "code",
      "execution_count": null,
      "metadata": {
        "colab": {
          "base_uri": "https://localhost:8080/"
        },
        "id": "E0Sumac9Zrfb",
        "outputId": "f246745b-1449-48cf-d133-43590b517305"
      },
      "outputs": [
        {
          "name": "stdout",
          "output_type": "stream",
          "text": [
            "January\n",
            "February\n",
            "March\n",
            "April\n",
            "May\n",
            "June\n",
            "July\n",
            "August\n",
            "September\n",
            "October\n",
            "November\n",
            "December\n"
          ]
        }
      ],
      "source": [
        "# Challenge 1\n",
        "# Run the code below then try to figure out what happens.\n",
        "# Then from your understanding, provide a documentation to the program\n",
        "# NB: By documentation we mean add comments to the program\n",
        "# to help the reader to understand the program.\n",
        "# Hint: Explain each line of the program.\n",
        "#\n",
        "\n",
        "# we define the months of the year (list)\n",
        "months = ['January', 'February', 'March', 'April',\n",
        "          'May', 'June', 'July', 'August', 'September',\n",
        "          'October', 'November', 'December']\n",
        "\n",
        "# a manipulation/an action performed on the calendar months\n",
        "def showCalendar(months):\n",
        "  for month in months:\n",
        "    print(month)\n",
        "\n",
        "# display the output\n",
        "showCalendar(months)"
      ]
    },
    {
      "cell_type": "markdown",
      "metadata": {
        "id": "4Vx-OcG5G4DV"
      },
      "source": [
        "### Variables"
      ]
    },
    {
      "cell_type": "code",
      "execution_count": null,
      "metadata": {
        "colab": {
          "base_uri": "https://localhost:8080/"
        },
        "id": "ymn9CZtHG3cz",
        "outputId": "258b7ec0-7c6f-4a8a-8241-4b4c8cfcc7dc"
      },
      "outputs": [
        {
          "name": "stdout",
          "output_type": "stream",
          "text": [
            "10\n",
            "15\n"
          ]
        }
      ],
      "source": [
        "# Example 1\n",
        "# we store the value 10 in a variable p\n",
        "\n",
        "p = 10\n",
        "print(p)\n",
        "\n",
        "x = 15\n",
        "print(x)"
      ]
    },
    {
      "cell_type": "code",
      "execution_count": null,
      "metadata": {
        "colab": {
          "base_uri": "https://localhost:8080/"
        },
        "id": "XW9b2FkSH4BG",
        "outputId": "27d442e2-948f-44e0-d6a2-c64da71fa0bb"
      },
      "outputs": [
        {
          "name": "stdout",
          "output_type": "stream",
          "text": [
            "Harry Potter and the Prisoner of Azkaban\n"
          ]
        }
      ],
      "source": [
        "# Example 2\n",
        "\n",
        "# create a variable book\n",
        "book = \"Harry Potter and the Prisoner of Azkaban\"\n",
        "print(book)"
      ]
    },
    {
      "cell_type": "code",
      "execution_count": null,
      "metadata": {
        "colab": {
          "base_uri": "https://localhost:8080/"
        },
        "id": "hxda8dtIIqAg",
        "outputId": "325a89f0-e573-4e2a-ede8-1e4f6affbe1a"
      },
      "outputs": [
        {
          "name": "stdout",
          "output_type": "stream",
          "text": [
            "Einstein\n"
          ]
        }
      ],
      "source": [
        "# Challenge 2\n",
        "\n",
        "quote_2 = \"Einstein\"\n",
        "print(quote_2)"
      ]
    },
    {
      "cell_type": "markdown",
      "metadata": {
        "id": "3V613ceBI_kS"
      },
      "source": [
        "### Operators"
      ]
    },
    {
      "cell_type": "code",
      "execution_count": null,
      "metadata": {
        "colab": {
          "base_uri": "https://localhost:8080/"
        },
        "id": "JV6co5S-JBK5",
        "outputId": "9ba884ca-89fc-4fb3-eff1-76cb1775e5f2"
      },
      "outputs": [
        {
          "name": "stdout",
          "output_type": "stream",
          "text": [
            "60\n",
            "-20\n",
            "0.5\n",
            "800\n"
          ]
        }
      ],
      "source": [
        "# Example 3\n",
        "# operators like addition, multiplication, etc are possible with python\n",
        "\n",
        "a = 20\n",
        "b = 40\n",
        "\n",
        "print(a + b)\n",
        "print(a - b)\n",
        "print(a / b)\n",
        "print(a * b)"
      ]
    },
    {
      "cell_type": "code",
      "execution_count": null,
      "metadata": {
        "colab": {
          "base_uri": "https://localhost:8080/"
        },
        "id": "fe7RV0ZKJk0U",
        "outputId": "5f3fecfc-9194-47c8-8c7c-43fec1c09269"
      },
      "outputs": [
        {
          "name": "stdout",
          "output_type": "stream",
          "text": [
            "380\n"
          ]
        }
      ],
      "source": [
        "# Example 4\n",
        "# what if we assigned the value of a+b to a\n",
        "\n",
        "a = a + b\n",
        "print(a)"
      ]
    },
    {
      "cell_type": "code",
      "execution_count": null,
      "metadata": {
        "id": "Mu9j855nKf1J"
      },
      "outputs": [],
      "source": [
        "# Example 5\n",
        "# increment operator +=\n",
        "\n",
        "a = 10"
      ]
    },
    {
      "cell_type": "code",
      "execution_count": null,
      "metadata": {
        "colab": {
          "base_uri": "https://localhost:8080/"
        },
        "id": "Oq6EMGGXKnhh",
        "outputId": "bb3baf95-f81c-45c1-f130-aaf94d3de7f8"
      },
      "outputs": [
        {
          "name": "stdout",
          "output_type": "stream",
          "text": [
            "20\n"
          ]
        }
      ],
      "source": [
        "a += 1\n",
        "print(a)"
      ]
    },
    {
      "cell_type": "code",
      "execution_count": null,
      "metadata": {
        "colab": {
          "base_uri": "https://localhost:8080/"
        },
        "id": "RoqbYeVWLb1o",
        "outputId": "a5ef9d7b-8bf2-4a8e-b7e6-28cf99358198"
      },
      "outputs": [
        {
          "name": "stdout",
          "output_type": "stream",
          "text": [
            "15\n"
          ]
        }
      ],
      "source": [
        "# Example 6\n",
        "# decrement operator\n",
        "\n",
        "a -= 1\n",
        "print(a)"
      ]
    },
    {
      "cell_type": "code",
      "execution_count": null,
      "metadata": {
        "colab": {
          "base_uri": "https://localhost:8080/"
        },
        "id": "3vaZBHFQLxC0",
        "outputId": "f16d2ebb-fbd7-4580-bf08-ec7cf036c64b"
      },
      "outputs": [
        {
          "name": "stdout",
          "output_type": "stream",
          "text": [
            "64\n",
            "4\n"
          ]
        }
      ],
      "source": [
        "# Example 7\n",
        "# Exponent **\n",
        "# Modulo %\n",
        "\n",
        "print (4 ** 3)\n",
        "print (18 % 7)"
      ]
    },
    {
      "cell_type": "code",
      "execution_count": null,
      "metadata": {
        "colab": {
          "base_uri": "https://localhost:8080/"
        },
        "id": "TdwsuiaHNcVx",
        "outputId": "1566d9e3-7b36-407c-e1a6-50e285ab7592"
      },
      "outputs": [
        {
          "name": "stdout",
          "output_type": "stream",
          "text": [
            "216.66666666666666\n"
          ]
        }
      ],
      "source": [
        "# Example 8\n",
        "# if 3 persons have 3 notes of Ksh 50, Ksh 100, Ksh 500\n",
        "# create variables person 1, person 2, person 3\n",
        "# find out the average of their money\n",
        "\n",
        "person_1 = 50\n",
        "person_2 = 100\n",
        "person_3 = 500\n",
        "\n",
        "average = (person_1 + person_2 + person_3) / 3\n",
        "\n",
        "print (average)"
      ]
    },
    {
      "cell_type": "code",
      "execution_count": null,
      "metadata": {
        "id": "6RCZ1K1cO9T8"
      },
      "outputs": [],
      "source": [
        "# Challenge 2\n",
        "# An online shop sells designer jeans and t-shirts.\n",
        "# Each jeans costs Ksh. 4500 and t-shirt costs Ksh. 2500.\n",
        "# Calculate the cost below if you were to buy 3 pairs of jeans and 6 t-shirts\n",
        "# using variables and operators.\n",
        "#\n",
        "# OUR CODE GOES HERE\n",
        "\n",
        "jeans = 4500\n",
        "tshirts = 2500\n",
        "\n",
        "cost = (3*jeans + 6*tshirts)\n",
        "print (cost)"
      ]
    },
    {
      "cell_type": "code",
      "execution_count": null,
      "metadata": {
        "id": "GhQf2-1WPeWe"
      },
      "outputs": [],
      "source": [
        "# Challenge 3\n",
        "# We have Ksh 1000, which you invest with a 10% return each year.\n",
        "# After one year, it's 1000 × 1.1 = 1100 shillings, and after two years\n",
        "# it's 1000 × 1.1 × 1.1 = 121.\n",
        "# Now, write code below to calculate how much money\n",
        "# you would end up with after 7 years.\n",
        "# How much is your Ksh. 1000 worth after 15 years?\n",
        "# ----------\n",
        "# Hint: Instead of calculating with the actual values, you can use variables instead.\n",
        "# The savings variable you've created in the previous exercise represents the Ksh 1000 you started with.\n",
        "# It's up to you to create a new variable to represent 1.1 and then redo the calculations!\n",
        "# ----------\n",
        "\n",
        "# We can recreate the savings variable that we will use below\n",
        "#\n",
        "#savings = 1000\n",
        "\n",
        "# and create a growth_multiplier variable that is equal to 1.1.\n",
        "#OUR CODE GOES HERE\n",
        "\n",
        "# Then create a result variable and equal it to the amount of money you saved after 7 years.\n",
        "\n",
        "# Then print out the value of result below\n",
        "\n",
        "savings = 1000\n",
        "interest = 1.1\n",
        "\n",
        "two_years = savings + savings*(interest)**2\n",
        "print (two_years)\n",
        "\n",
        "seven_years = savings + savings*(interest)**7\n",
        "print (seven_years)\n",
        "\n",
        "fifteen_years = savings + savings*(interest)**15\n",
        "print (fifteen_years)"
      ]
    },
    {
      "cell_type": "markdown",
      "metadata": {
        "id": "Aex1rkdhPiw7"
      },
      "source": [
        "### Input"
      ]
    },
    {
      "cell_type": "code",
      "execution_count": null,
      "metadata": {
        "colab": {
          "base_uri": "https://localhost:8080/"
        },
        "id": "adIIFuXqP-2b",
        "outputId": "e46a2547-f514-4c20-8ddc-122a5e201f58"
      },
      "outputs": [
        {
          "name": "stdout",
          "output_type": "stream",
          "text": [
            "Enter your name: Epic Learn\n",
            "Hi Epic Learn\n"
          ]
        }
      ],
      "source": [
        "# Example 9\n",
        "# the input () function allows for user input\n",
        "\n",
        "g = input(\"Enter your name: \")\n",
        "print (\"Hi\", g)"
      ]
    },
    {
      "cell_type": "code",
      "execution_count": null,
      "metadata": {
        "colab": {
          "base_uri": "https://localhost:8080/"
        },
        "id": "edi4Rx0mTcWa",
        "outputId": "760b98f6-ea55-407b-9b6d-ccd7bd2ff8c1"
      },
      "outputs": [
        {
          "name": "stdout",
          "output_type": "stream",
          "text": [
            "Enter a number:50\n",
            "70\n"
          ]
        }
      ],
      "source": [
        "# Example 10\n",
        "# the user input can also be a number\n",
        "\n",
        "x = input(\"Enter a number:\")\n",
        "x = int(x)\n",
        "\n",
        "print (x + 20)"
      ]
    },
    {
      "cell_type": "code",
      "execution_count": null,
      "metadata": {
        "id": "v8qqNBr3Urx2"
      },
      "outputs": [],
      "source": [
        "# Challenge 4\n",
        "# Many people around the world think about their height in feet and inches\n",
        "# even here in Africa where many countries use the metric system.\n",
        "# Write a program reads the height in metres then converts it to\n",
        "# feet and inches. The program should display the equivalent\n",
        "# height in feet and inches.\n",
        "# NB: You can look up the necessary conversion factors on the web.\n",
        "#\n",
        "\n",
        "# OUR CODE GOES HERE\n",
        "\n",
        "#height_metres = input(\"Enter your height in metres: \")\n",
        "#height_metres = float(height_metres)\n",
        "\n",
        "h = input(\"Enter your height in metres: \")\n",
        "h = float(h)\n",
        "print (h*3.28084)"
      ]
    },
    {
      "cell_type": "code",
      "execution_count": null,
      "metadata": {
        "id": "4JmWbM1hXUpW"
      },
      "outputs": [],
      "source": [
        "# Challenge 5\n",
        "# Given a certain column of data that has radius, a data scientist would like\n",
        "# to compute the volume the respective cylinder and save the result to a new column.\n",
        "# Thus, write a program that reads the radius of cylinder, along with its height\n",
        "# from the user to calculate the volume in the console.\n",
        "#\n",
        "#OUR CODE GOES HERE\n",
        "#Volume = pi*r**2*h\n",
        "\n",
        "pi = 3.142\n",
        "r = input (\"Enter the radius: \")\n",
        "r = float (r)\n",
        "h = input (\"Enter the height: \")\n",
        "h = float (h)\n",
        "volume  = pi*r**2*h\n",
        "print (volume)"
      ]
    },
    {
      "cell_type": "code",
      "execution_count": null,
      "metadata": {
        "id": "StX6-OzNX14F",
        "colab": {
          "base_uri": "https://localhost:8080/"
        },
        "outputId": "3fb899a3-2931-46e1-ce1f-1de962183cc6"
      },
      "outputs": [
        {
          "output_type": "stream",
          "name": "stdout",
          "text": [
            "Enter the note value: 500\n",
            "Ksh 100 notes:  4 \n",
            "Ksh 50 notes:  1\n"
          ]
        }
      ],
      "source": [
        "# Challenge 6\n",
        "# While paying for her parking fee of Ksh. 50 , Jane inserts a Note into\n",
        "# the paying machine and gets back her change.\n",
        "# Write a program that reads as input the note greater than Ksh. 200\n",
        "# and returns change in notes of 100 and 50.\n",
        "# Use the knowledge of variables to printing, comments, operators\n",
        "# and input to print the no of denominations given\n",
        "#\n",
        "#OUR CODE GOES HERE\n",
        "\n",
        "note = input(\"Enter the note value: \")\n",
        "note = int(note)\n",
        "\n",
        "change = note - 50\n",
        "den_100 = int(change / 100)\n",
        "den_50 = int((change % 100) / 50)\n",
        "\n",
        "print (\"Ksh 100 notes: \",den_100, \"\\nKsh 50 notes: \", den_50) #\\n is a linebreak\n",
        "\n",
        "# print (\"Ksh 100 notes: \", den_100, \"\\nKsh 50 notes: \", den_50)"
      ]
    },
    {
      "cell_type": "markdown",
      "metadata": {
        "id": "EWI0eCXNX6G3"
      },
      "source": [
        "### Data Types"
      ]
    },
    {
      "cell_type": "code",
      "execution_count": null,
      "metadata": {
        "colab": {
          "base_uri": "https://localhost:8080/"
        },
        "id": "_4agGzLkX8fz",
        "outputId": "ff85dd57-e2db-4dca-db7c-353e4b342d53"
      },
      "outputs": [
        {
          "data": {
            "text/plain": [
              "True"
            ]
          },
          "execution_count": 49,
          "metadata": {},
          "output_type": "execute_result"
        }
      ],
      "source": [
        "# strings, integers, floats, boolean values\n",
        "\n",
        "# Example 11\n",
        "# integer data type\n",
        "50\n",
        "\n",
        "# float data type\n",
        "3.142\n",
        "\n",
        "# string data type\n",
        "\"This is Epic\"\n",
        "\n",
        "# boolean data type\n",
        "True"
      ]
    },
    {
      "cell_type": "code",
      "execution_count": null,
      "metadata": {
        "colab": {
          "base_uri": "https://localhost:8080/"
        },
        "id": "6lB-ObOEYfYw",
        "outputId": "4e6c00ad-d5cb-41d8-ad21-0914edb7da54"
      },
      "outputs": [
        {
          "name": "stdout",
          "output_type": "stream",
          "text": [
            "50\n",
            "3.142\n",
            "This is Epic\n",
            "True\n"
          ]
        }
      ],
      "source": [
        "# displaying some data types\n",
        "\n",
        "print (50)\n",
        "print(3.142)\n",
        "print(\"This is Epic\")\n",
        "print(True)"
      ]
    },
    {
      "cell_type": "code",
      "execution_count": null,
      "metadata": {
        "colab": {
          "base_uri": "https://localhost:8080/"
        },
        "id": "Nhr3M3ryYtc4",
        "outputId": "df018aa1-ab5c-4152-a961-3cf6f047c4a3"
      },
      "outputs": [
        {
          "name": "stdout",
          "output_type": "stream",
          "text": [
            "This is Epic\n"
          ]
        }
      ],
      "source": [
        "# Example 12\n",
        "# explic specification of a data type\n",
        "\n",
        "x = int(50)\n",
        "y = float(3.142)\n",
        "z = str(\"This is Epic\")\n",
        "a = bool(True)\n",
        "\n",
        "print(z)"
      ]
    },
    {
      "cell_type": "markdown",
      "metadata": {
        "id": "X1QpOU_1ZLD6"
      },
      "source": [
        "### Finding Out Types"
      ]
    },
    {
      "cell_type": "code",
      "execution_count": null,
      "metadata": {
        "colab": {
          "base_uri": "https://localhost:8080/"
        },
        "id": "W0xlfW8VZRm8",
        "outputId": "2c959ed5-8177-4d07-9ed7-86933c7e5ac1"
      },
      "outputs": [
        {
          "name": "stdout",
          "output_type": "stream",
          "text": [
            "<class 'int'>\n",
            "<class 'float'>\n"
          ]
        }
      ],
      "source": [
        "# Example 13\n",
        "# type function allows us to check the data type\n",
        "\n",
        "print(type (x))\n",
        "print(type (y))"
      ]
    },
    {
      "cell_type": "code",
      "execution_count": null,
      "metadata": {
        "colab": {
          "base_uri": "https://localhost:8080/"
        },
        "id": "PBi4oj-ZaetK",
        "outputId": "d66e586a-6ada-4627-a497-094d3a80d31b"
      },
      "outputs": [
        {
          "name": "stdout",
          "output_type": "stream",
          "text": [
            "50.0\n"
          ]
        }
      ],
      "source": [
        "# Example 14\n",
        "x = int (50)\n",
        "\n",
        "print (float(x))"
      ]
    },
    {
      "cell_type": "code",
      "execution_count": null,
      "metadata": {
        "colab": {
          "base_uri": "https://localhost:8080/"
        },
        "id": "gNRqjrDfa04y",
        "outputId": "61018094-974c-4c3f-e19e-394bfa33d6c0"
      },
      "outputs": [
        {
          "name": "stdout",
          "output_type": "stream",
          "text": [
            "3\n"
          ]
        }
      ],
      "source": [
        "# Example 15\n",
        "\n",
        "y = float(3.28084)\n",
        "\n",
        "print (int(y))"
      ]
    },
    {
      "cell_type": "code",
      "execution_count": null,
      "metadata": {
        "colab": {
          "base_uri": "https://localhost:8080/"
        },
        "id": "WzLW94RbbdRT",
        "outputId": "96a0ccaf-570b-4ebc-e20a-6ea21a3f11eb"
      },
      "outputs": [
        {
          "data": {
            "text/plain": [
              "float"
            ]
          },
          "execution_count": 57,
          "metadata": {},
          "output_type": "execute_result"
        }
      ],
      "source": [
        "# Example 16\n",
        "\n",
        "type (16 / 4)"
      ]
    },
    {
      "cell_type": "code",
      "execution_count": null,
      "metadata": {
        "colab": {
          "base_uri": "https://localhost:8080/"
        },
        "id": "CRE9JbhicHHR",
        "outputId": "895664ca-39a4-4b65-ffad-e472d6da0165"
      },
      "outputs": [
        {
          "data": {
            "text/plain": [
              "float"
            ]
          },
          "execution_count": 59,
          "metadata": {},
          "output_type": "execute_result"
        }
      ],
      "source": [
        "# Example 17\n",
        "\n",
        "type (7 * 3.5)"
      ]
    },
    {
      "cell_type": "code",
      "execution_count": null,
      "metadata": {
        "colab": {
          "base_uri": "https://localhost:8080/"
        },
        "id": "Ef9KlbjXcZqN",
        "outputId": "49cc2fbc-8886-4b4f-c425-070eec3d095c"
      },
      "outputs": [
        {
          "data": {
            "text/plain": [
              "int"
            ]
          },
          "execution_count": 65,
          "metadata": {},
          "output_type": "execute_result"
        }
      ],
      "source": [
        "# Example 18\n",
        "\n",
        "type (3 // 2)"
      ]
    },
    {
      "cell_type": "code",
      "execution_count": null,
      "metadata": {
        "colab": {
          "base_uri": "https://localhost:8080/"
        },
        "id": "IbPaH0G2d0FA",
        "outputId": "2790d8de-1b3f-4a48-977c-64fcf99328db"
      },
      "outputs": [
        {
          "data": {
            "text/plain": [
              "False"
            ]
          },
          "execution_count": 66,
          "metadata": {},
          "output_type": "execute_result"
        }
      ],
      "source": [
        "True\n",
        "False"
      ]
    },
    {
      "cell_type": "code",
      "execution_count": null,
      "metadata": {
        "colab": {
          "base_uri": "https://localhost:8080/"
        },
        "id": "MFCzN5FQeOaR",
        "outputId": "4c37c523-f70c-45ed-d3a6-afd9b3dc446b"
      },
      "outputs": [
        {
          "data": {
            "text/plain": [
              "bool"
            ]
          },
          "execution_count": 67,
          "metadata": {},
          "output_type": "execute_result"
        }
      ],
      "source": [
        "# Example 19\n",
        "# type of a boolean value\n",
        "\n",
        "type (True)"
      ]
    },
    {
      "cell_type": "code",
      "execution_count": null,
      "metadata": {
        "colab": {
          "base_uri": "https://localhost:8080/"
        },
        "id": "nsTrnj5JefJB",
        "outputId": "1aaae476-0820-48b2-993e-7f95458321fa"
      },
      "outputs": [
        {
          "name": "stdout",
          "output_type": "stream",
          "text": [
            "1\n"
          ]
        }
      ],
      "source": [
        "# convert a string into an integer\n",
        "\n",
        "a = '1'\n",
        "print (int(a))"
      ]
    },
    {
      "cell_type": "code",
      "execution_count": null,
      "metadata": {
        "colab": {
          "base_uri": "https://localhost:8080/"
        },
        "id": "3GYdVA14ep-O",
        "outputId": "b5e8cf94-0d99-4ffa-c7c8-deb09f09e6c1"
      },
      "outputs": [
        {
          "name": "stdout",
          "output_type": "stream",
          "text": [
            "1\n"
          ]
        }
      ],
      "source": [
        "# convert an integer into a string\n",
        "a = int(1)\n",
        "a = str(a)\n",
        "\n",
        "print(a)"
      ]
    },
    {
      "cell_type": "markdown",
      "metadata": {
        "id": "_bvAXk-sfiAU"
      },
      "source": [
        "### Conditional (if) Statements"
      ]
    },
    {
      "cell_type": "code",
      "execution_count": null,
      "metadata": {
        "colab": {
          "base_uri": "https://localhost:8080/"
        },
        "id": "s9OkGNJ8fldO",
        "outputId": "d02d3861-ea22-46e1-94cb-56ad2082df2f"
      },
      "outputs": [
        {
          "name": "stdout",
          "output_type": "stream",
          "text": [
            "x is a better number\n"
          ]
        }
      ],
      "source": [
        "# Example 20\n",
        "# we such statements by using the if statement\n",
        "\n",
        "x = 200\n",
        "y = 100\n",
        "\n",
        "if y < x:\n",
        "  print (\"x is a better number\")"
      ]
    },
    {
      "cell_type": "code",
      "execution_count": null,
      "metadata": {
        "colab": {
          "base_uri": "https://localhost:8080/"
        },
        "id": "jxOYvBqgiQMp",
        "outputId": "175d5cf1-c5bf-497c-e48f-8d5c709940e2"
      },
      "outputs": [
        {
          "name": "stdout",
          "output_type": "stream",
          "text": [
            "Enter a value for x: 45\n",
            "Enter a value for y: 45\n"
          ]
        }
      ],
      "source": [
        "# Example 21\n",
        "# take inputs from a user\n",
        "\n",
        "x = input(\"Enter a value for x: \")\n",
        "y = input(\"Enter a value for y: \")\n",
        "\n",
        "if y > x:\n",
        "  print (\"y is greater than x\")"
      ]
    },
    {
      "cell_type": "markdown",
      "metadata": {
        "id": "ZTfYZ_UYjC5W"
      },
      "source": [
        "### ELSEIF (elif)"
      ]
    },
    {
      "cell_type": "code",
      "execution_count": null,
      "metadata": {
        "colab": {
          "background_save": true,
          "base_uri": "https://localhost:8080/"
        },
        "id": "sUNrAZ0AjE78",
        "outputId": "c6ffb65e-65fd-417d-e351-ea372f2c3faf"
      },
      "outputs": [
        {
          "name": "stdout",
          "output_type": "stream",
          "text": [
            "y is greater than x\n"
          ]
        }
      ],
      "source": [
        "# Example 22\n",
        "# take inputs from a user\n",
        "\n",
        "x = input(\"Enter a value for x: \")\n",
        "y = input(\"Enter a value for y: \")\n",
        "\n",
        "if y > x:\n",
        "  print (\"y is greater than x\")\n",
        "elif x==y:\n",
        "  print (\"x and y are equal\")\n",
        "elif y <x:\n",
        "  print(\"y is less than x\")"
      ]
    },
    {
      "cell_type": "code",
      "source": [
        "# Challenge 7\n",
        "# write a program that reads an integer\n",
        "# from a user then displays a message indicating\n",
        "# whether the integer is even or odd.\n",
        "#\n",
        "\n",
        "x = input(\"Enter a number: \")\n",
        "x = int(x)\n",
        "\n",
        "if (x % 2) == 0:\n",
        "  print (\"You gave us an even number\")\n",
        "elif (x % 2) != 0:\n",
        "  print (\"You gave us an odd number\")"
      ],
      "metadata": {
        "colab": {
          "base_uri": "https://localhost:8080/"
        },
        "id": "YmlFHwxUkmSi",
        "outputId": "f767c79a-eba2-4fa1-fc5a-41e5d3260a05"
      },
      "execution_count": null,
      "outputs": [
        {
          "output_type": "stream",
          "name": "stdout",
          "text": [
            "Enter a number: 21\n",
            "You gave us an odd number\n"
          ]
        }
      ]
    },
    {
      "cell_type": "code",
      "source": [
        "# Challenge 8\n",
        "# Can you write a program that has a third option to detect prime numbers?\n",
        "#\n",
        "\n",
        "OUR CODE GOES HERE"
      ],
      "metadata": {
        "id": "ubB54WBRlmXM"
      },
      "execution_count": null,
      "outputs": []
    },
    {
      "cell_type": "code",
      "source": [
        "# Challenge 9\n",
        "# We now write a program that reads a input from a user.\n",
        "# If the user enters a, e, i, o or u then our program should\n",
        "# display a message indicating that the entered letter is a vowel.\n",
        "# If our user enters y then our program should display a message\n",
        "# indicating that sometimes y is a vowel, and sometimes y is a consonant.\n",
        "# Otherwise our program should display a message indicating that the\n",
        "# letter is a consonant.\n",
        "#\n",
        "\n",
        "letter = str(input(\"Enter a letter of the alphabet\"))\n",
        "\n",
        "if letter == \"a\" or letter == \"e\" or letter ==\"i\" or letter == \"o\" or letter == \"u\":\n",
        "  print (\"The letter is a vowel\")\n",
        "elif letter == \"y\":\n",
        "  print(\"Sometimes y is a vowel or a consonant\")\n",
        "else:\n",
        "  print(\"The letter is a consonant\")"
      ],
      "metadata": {
        "id": "hk9H4W37l926",
        "colab": {
          "base_uri": "https://localhost:8080/"
        },
        "outputId": "5b104f61-fc63-448c-89c4-08ba4e3831c4"
      },
      "execution_count": null,
      "outputs": [
        {
          "output_type": "stream",
          "name": "stdout",
          "text": [
            "Enter a letter of the alphabetp\n",
            "The letter is a consonant\n"
          ]
        }
      ]
    },
    {
      "cell_type": "code",
      "source": [
        "# Challenge 10\n",
        "# Let's now also write another program that asks for a number and computes the\n",
        "# square of that number. If the square is 100 or greater, print the squared value\n",
        "# and the word 'big'. Otherwise if the square is 50 or greater, print the\n",
        "# squared value and the word 'medium'. Otherwise just print 'too small to bother with'.\n",
        "# Hint: To compute squared, use x*x or x**2\n",
        "#\n",
        "\n",
        "number = input (\"Enter the number: \")\n",
        "number = int (number)\n",
        "square = number**2\n",
        "\n",
        "if square >= 100:\n",
        "  print (square, 'Big')\n",
        "elif square >= 50:\n",
        "  print (square, 'Medium')\n",
        "else:\n",
        "  print (square, 'Too small to bother with')\n"
      ],
      "metadata": {
        "id": "DRdNDx0fmEr7",
        "colab": {
          "base_uri": "https://localhost:8080/"
        },
        "outputId": "0e949764-8d6e-4ce2-dae4-d86f5b136598"
      },
      "execution_count": 4,
      "outputs": [
        {
          "output_type": "stream",
          "name": "stdout",
          "text": [
            "Enter the number: 8\n",
            "64 Medium\n"
          ]
        }
      ]
    },
    {
      "cell_type": "markdown",
      "source": [
        "### Else"
      ],
      "metadata": {
        "id": "pv6aZ9nMmI4_"
      }
    },
    {
      "cell_type": "code",
      "source": [
        "# Example 23\n",
        "# the else key word catches anything else not considered in the previous statements\n",
        "# conditions\n",
        "\n",
        "x = 150\n",
        "y = 54\n",
        "\n",
        "if y == x:\n",
        "  print (\"The numbers are the same\")\n",
        "elif y <x:\n",
        "  print (\"y is less than x\")\n",
        "else:\n",
        "  print (\"y is greater than x\")"
      ],
      "metadata": {
        "colab": {
          "base_uri": "https://localhost:8080/"
        },
        "id": "CunqVGSxmKu-",
        "outputId": "49817b85-c34e-4ba8-dc08-43e02bf283d4"
      },
      "execution_count": null,
      "outputs": [
        {
          "output_type": "stream",
          "name": "stdout",
          "text": [
            "y is less than x\n"
          ]
        }
      ]
    },
    {
      "cell_type": "code",
      "source": [
        "# Example 24\n",
        "# prompt the user for an input\n",
        "\n",
        "\n",
        "temp_outside = float(input(\"What is the temperature outside? \"))\n",
        "\n",
        "if temp_outside > 27:\n",
        "  print(\"No need for a sweater\")\n",
        "else:\n",
        "  print(\"Wear a sweater\")"
      ],
      "metadata": {
        "colab": {
          "base_uri": "https://localhost:8080/"
        },
        "id": "yPHJDHZtnC5t",
        "outputId": "8dedfee0-c7d3-4ff3-a261-116736b610c4"
      },
      "execution_count": null,
      "outputs": [
        {
          "output_type": "stream",
          "name": "stdout",
          "text": [
            "What is the temperature outside? 12\n",
            "Wear a sweater\n"
          ]
        }
      ]
    },
    {
      "cell_type": "code",
      "source": [
        "# Challenge 11\n",
        "# Let's write a program that reads a month and day from the user.\n",
        "# If the month and day matches one of the holidays listed previously\n",
        "# then the program should display the Kenyan holiday’s name.\n",
        "# Otherwise our program should indicate that the entered month and day\n",
        "# do not correspond to a holiday. (You should use the else keyword)\n",
        "#\n",
        "\n",
        "month =int(input(\"Enter the month: \"))\n",
        "day = int(input(\"Enter the day: \"))\n",
        "\n",
        "if month == 6 and day == 1:\n",
        "  print (\"Madaraka Day\")\n",
        "elif month == 10 and day == 20:\n",
        "  print (\"Mashujaa Day\")\n",
        "else:\n",
        "  print (\"Entered month and day do not correspond to a holiday\")"
      ],
      "metadata": {
        "id": "YgEQlZxTpZyT",
        "colab": {
          "base_uri": "https://localhost:8080/"
        },
        "outputId": "ef6be8c5-5aa6-456e-afc5-e636296e1de1"
      },
      "execution_count": null,
      "outputs": [
        {
          "output_type": "stream",
          "name": "stdout",
          "text": [
            "Enter the month: 6\n",
            "Enter the day: 1\n",
            "Madaraka Day\n"
          ]
        }
      ]
    },
    {
      "cell_type": "code",
      "source": [
        "# Challenge 12\n",
        "# Write a program that reads a wavelength from the user and reports its color.\n",
        "# Display an appropriate error message if the wavelength entered by the user\n",
        "# is outside of the visible spectrum.\n",
        "# (You can do external research on this challenge to determine the wavelength).\n",
        "# You should use the else keyword.\n",
        "\n",
        "#Violet: Shortest wavelength, around 380-436 nm.\n",
        "#Blue: Shorter wavelengths, around 436-495 nm.\n",
        "#Green: Intermediate wavelengths, around 495-566 nm.\n",
        "#Yellow: Slightly longer wavelengths, around 566-589 nm.\n",
        "#Orange: Longer wavelengths, around 589-627 nm.\n",
        "#Red: Longest wavelength, around 627-780 nm.\n",
        "\n",
        "wavelength = input (\"Enter the wavelength: \")\n",
        "wavelength = int (wavelength)\n",
        "\n",
        "if wavelength >= 380 and wavelength < 436:\n",
        "  print (\"Violet\")\n",
        "elif wavelength >= 436 and wavelength < 495:\n",
        "  print (\"Blue\")\n",
        "elif wavelength >= 495 and wavelength < 566:\n",
        "  print (\"Green\")\n",
        "elif wavelength >= 566 and wavelength < 589:\n",
        "  print (\"Yellow\")\n",
        "elif wavelength >= 589 and wavelength < 627:\n",
        "  print (\"Orange\")\n",
        "elif wavelength  >= 627 and wavelength < 780:\n",
        "  print (\"Red\")\n",
        "else:\n",
        "  print (\"outside viseable spectrum\")\n"
      ],
      "metadata": {
        "id": "abYPqRa-pg7d",
        "colab": {
          "base_uri": "https://localhost:8080/"
        },
        "outputId": "48f8f635-2231-459e-ac63-ffaf3b9f91e1"
      },
      "execution_count": 23,
      "outputs": [
        {
          "output_type": "stream",
          "name": "stdout",
          "text": [
            "Enter the wavelength: 790\n",
            "outside viseable spectrum\n"
          ]
        }
      ]
    },
    {
      "cell_type": "code",
      "source": [
        "# Challenge 13\n",
        "# Let's create a program that reads the name of a month from the user as a string,\n",
        "# then displays the number of days in that month.\n",
        "# The length of a month varies from 28 to 31 days.\n",
        "# The program needs to also display “28 or 29 days” for February\n",
        "# so that leap years are taken into account.\n",
        "# The program should use the else keyword.\n",
        "#\n",
        "\n",
        "month = input(\"Enter the month: \")\n",
        "month = str (month)\n",
        "\n",
        "if month == \"January\" or month == \"March\" or month == \"May\" or month == \"July\" or month == \"August\" or month == \"October\" or month == \"December\":\n",
        "  print (\"31 days\")\n",
        "elif month == \"February\"\n",
        "  print (\"28 or 29 days\")\n",
        "else:\n",
        "  print (\"30 days\")\n"
      ],
      "metadata": {
        "id": "AI5Rx3W6pmXl"
      },
      "execution_count": null,
      "outputs": []
    },
    {
      "cell_type": "markdown",
      "source": [
        "### Loops and Iterations"
      ],
      "metadata": {
        "id": "K8wyYerCzDkY"
      }
    },
    {
      "cell_type": "code",
      "source": [
        "# using for\n",
        "# iterating over a range\n",
        "# Example 25\n",
        "\n",
        "for number in range (5):   #iterates from 0 upto 4\n",
        "  print (f\"Iteration {number}\") # f-string, it allows expressions within a string"
      ],
      "metadata": {
        "colab": {
          "base_uri": "https://localhost:8080/"
        },
        "id": "9pXMNOpE8Bje",
        "outputId": "6dacc1c6-c9f2-484c-f046-947893c00d19"
      },
      "execution_count": null,
      "outputs": [
        {
          "output_type": "stream",
          "name": "stdout",
          "text": [
            "Iteration 0\n",
            "Iteration 1\n",
            "Iteration 2\n",
            "Iteration 3\n",
            "Iteration 4\n"
          ]
        }
      ]
    },
    {
      "cell_type": "code",
      "source": [
        "# Example 26\n",
        "# open interval (x,y) up to y-1\n",
        "# closed interval [x,y] y is part of the interval\n",
        "\n",
        "\n",
        "for number in range (1, 11):    #iterates from 0 to 10\n",
        "  print (f\"Iteration {number}\")"
      ],
      "metadata": {
        "colab": {
          "base_uri": "https://localhost:8080/"
        },
        "id": "hewJQJ3g99t2",
        "outputId": "f867850f-7165-40d3-d4a2-3817fe9fffa4"
      },
      "execution_count": 24,
      "outputs": [
        {
          "output_type": "stream",
          "name": "stdout",
          "text": [
            "Iteration 1\n",
            "Iteration 2\n",
            "Iteration 3\n",
            "Iteration 4\n",
            "Iteration 5\n",
            "Iteration 6\n",
            "Iteration 7\n",
            "Iteration 8\n",
            "Iteration 9\n",
            "Iteration 10\n"
          ]
        }
      ]
    },
    {
      "cell_type": "code",
      "source": [
        "# Example 27\n",
        "\n",
        "# creating a list of countries\n",
        "countries = [\"Kenya\", \"Rwanda\", \"Uganda\", \"Zambia\"]\n",
        "\n",
        "for country in countries:\n",
        "  print (f\"My Country is {country}\")"
      ],
      "metadata": {
        "colab": {
          "base_uri": "https://localhost:8080/"
        },
        "id": "AvNr44Zx_HU-",
        "outputId": "853f2343-1ecf-4a4a-f8c5-68cd8d8b03a4"
      },
      "execution_count": null,
      "outputs": [
        {
          "output_type": "stream",
          "name": "stdout",
          "text": [
            "My Country is Kenya\n",
            "My Country is Rwanda\n",
            "My Country is Uganda\n",
            "My Country is Zambia\n"
          ]
        }
      ]
    },
    {
      "cell_type": "code",
      "source": [
        "# using while\n",
        "# loops until a condition is met\n",
        "\n",
        "count = 1 #starts count from 1\n",
        "while count <= 5: # will count upto 5\n",
        "  print (f\"Count is {count}\")\n",
        "  count += 1 #  += an increment operator. In this case it ensures count is increasing by 1; otherwise it'll run infinitely\n",
        "            #+= 2 will increase count by 2"
      ],
      "metadata": {
        "colab": {
          "base_uri": "https://localhost:8080/"
        },
        "id": "KofTXHBEACn3",
        "outputId": "c829e8f6-b955-4a9e-cf43-cca2feb30e69"
      },
      "execution_count": 25,
      "outputs": [
        {
          "output_type": "stream",
          "name": "stdout",
          "text": [
            "Count is 1\n",
            "Count is 2\n",
            "Count is 3\n",
            "Count is 4\n",
            "Count is 5\n"
          ]
        }
      ]
    },
    {
      "cell_type": "code",
      "source": [
        "# simple countdown timer\n",
        "# Example 28\n",
        "\n",
        "timer = 10 #starts timer from 10\n",
        "while timer > 0: #will count down upto 1\n",
        "  print (f\"Time remaining: {timer} seconds\")\n",
        "  timer -= 1\n",
        "print (\"Happy New Year!\")"
      ],
      "metadata": {
        "colab": {
          "base_uri": "https://localhost:8080/"
        },
        "id": "l2kMRJHbBfcA",
        "outputId": "4b050bcc-adfb-4ef1-bb25-cc41fff9657e"
      },
      "execution_count": null,
      "outputs": [
        {
          "output_type": "stream",
          "name": "stdout",
          "text": [
            "Time remaining: 10 seconds\n",
            "Time remaining: 9 seconds\n",
            "Time remaining: 8 seconds\n",
            "Time remaining: 7 seconds\n",
            "Time remaining: 6 seconds\n",
            "Time remaining: 5 seconds\n",
            "Time remaining: 4 seconds\n",
            "Time remaining: 3 seconds\n",
            "Time remaining: 2 seconds\n",
            "Time remaining: 1 seconds\n",
            "Happy New Year!\n"
          ]
        }
      ]
    },
    {
      "cell_type": "markdown",
      "source": [
        "### Break and Continue"
      ],
      "metadata": {
        "id": "DwRRMIkrCDkC"
      }
    },
    {
      "cell_type": "code",
      "source": [
        "# break: Exit the loop prematurely\n",
        "# stop the loop when a condition has been met\n",
        "\n",
        "for year in range (12,35):\n",
        "  if year == 20:\n",
        "    print(\"All adolescent ages considered\")\n",
        "    break\n",
        "  print(year)"
      ],
      "metadata": {
        "colab": {
          "base_uri": "https://localhost:8080/"
        },
        "id": "nJDSonlvCGvd",
        "outputId": "5cc96b0f-870a-4a16-d5b8-da6844dd673e"
      },
      "execution_count": null,
      "outputs": [
        {
          "output_type": "stream",
          "name": "stdout",
          "text": [
            "12\n",
            "13\n",
            "14\n",
            "15\n",
            "16\n",
            "17\n",
            "18\n",
            "19\n",
            "All adolescent ages considered\n"
          ]
        }
      ]
    },
    {
      "cell_type": "code",
      "source": [
        "# continue\n",
        "# skip certain iterations\n",
        "\n",
        "for i in range (10):\n",
        "  if i % 2 == 0: # skips even numbers\n",
        "    continue\n",
        "  print (i)"
      ],
      "metadata": {
        "colab": {
          "base_uri": "https://localhost:8080/"
        },
        "id": "HdgHLWLpDB7w",
        "outputId": "79d9ce4e-b679-4301-d31b-af4ee1adc4fc"
      },
      "execution_count": null,
      "outputs": [
        {
          "output_type": "stream",
          "name": "stdout",
          "text": [
            "1\n",
            "3\n",
            "5\n",
            "7\n",
            "9\n"
          ]
        }
      ]
    },
    {
      "cell_type": "code",
      "source": [
        "# loops reduce redundancy by automating repetitive task\n",
        "# print a pattern manually\n",
        "\n",
        "print(\"*\")\n",
        "print(\"**\")\n",
        "print(\"***\")\n",
        "print(\"****\")"
      ],
      "metadata": {
        "colab": {
          "base_uri": "https://localhost:8080/"
        },
        "id": "CsjNCQspDoDv",
        "outputId": "d2e32421-d5aa-47ff-f27d-ccbd66b5d7ae"
      },
      "execution_count": null,
      "outputs": [
        {
          "output_type": "stream",
          "name": "stdout",
          "text": [
            "*\n",
            "**\n",
            "***\n",
            "****\n"
          ]
        }
      ]
    },
    {
      "cell_type": "code",
      "source": [
        "# use a loop to print the same pattern\n",
        "for i in range (1,5):\n",
        "  print(\"*\" * i)"
      ],
      "metadata": {
        "colab": {
          "base_uri": "https://localhost:8080/"
        },
        "id": "Q-mCaRfUFEj1",
        "outputId": "d4fa8805-27e9-4820-f3d4-2074dba40219"
      },
      "execution_count": null,
      "outputs": [
        {
          "output_type": "stream",
          "name": "stdout",
          "text": [
            "*\n",
            "**\n",
            "***\n",
            "****\n"
          ]
        }
      ]
    },
    {
      "cell_type": "code",
      "source": [
        "# Challenge 14\n",
        "# Problem: Print numbers from 1 to 20. For multiples of 3, print \"Fizz\";\n",
        "# for multiples of 5, print \"Buzz\"; for multiples of both, print \"FizzBuzz.\"\n",
        "\n",
        "#MY PRACTICE\n",
        "#for number in range (1, 21)\n",
        "\n",
        "# if number % 3 == 0 and number % 5 == 0:\n",
        "  # print (\"FizzBuzz\")\n",
        "# elif number % 5 == 0:\n",
        "  # print (\"Buzz\")\n",
        "# elif number % 3 == 0:\n",
        "  # print (\"Fizz\")\n",
        "# else:\n",
        "  # print (number)\n",
        "\n",
        "# Teacher's work\n",
        "for i in range (1,21):\n",
        "  if i % 3 == 0 and i % 5 == 0:\n",
        "    print (\"FizzBuzz\")\n",
        "  elif i % 5 == 0:\n",
        "    print (\"Buzz\")\n",
        "  elif i % 3 == 0:\n",
        "    print (\"Fizz\")\n",
        "  else:\n",
        "    print (i)"
      ],
      "metadata": {
        "colab": {
          "base_uri": "https://localhost:8080/"
        },
        "id": "BPk-ZbUFF0T0",
        "outputId": "77602dff-188d-431f-f1ef-ab37f2265146"
      },
      "execution_count": null,
      "outputs": [
        {
          "output_type": "stream",
          "name": "stdout",
          "text": [
            "1\n",
            "2\n",
            "Fizz\n",
            "4\n",
            "Buzz\n",
            "Fizz\n",
            "7\n",
            "8\n",
            "Fizz\n",
            "Buzz\n",
            "11\n",
            "Fizz\n",
            "13\n",
            "14\n",
            "FizzBuzz\n",
            "16\n",
            "17\n",
            "Fizz\n",
            "19\n",
            "Buzz\n"
          ]
        }
      ]
    },
    {
      "cell_type": "code",
      "source": [
        "# Challenge 15\n",
        "# write a program that reads an integer\n",
        "# from a user then displays a message indicating\n",
        "# whether the integer is even or odd.\n",
        "# Can you write a program that has a third option to detect prime numbers?\n",
        "#\n",
        "\n",
        "x = input(\"Enter a number: \")\n",
        "x = int(x)\n",
        "\n",
        "# check if x is prime\n",
        "if x > 1:\n",
        "  is_prime = True\n",
        "  # we will check for factors from 2 maybe to a sqrt of the number\n",
        "  for i in range (2, int(x ** 0.5)+ 1): # 61/2, 61/3, 61/4, 61/5, 61/6, 61/7, 61/8\n",
        "    if x % i == 0:\n",
        "      is_prime = False\n",
        "      break\n",
        "else: # everything (== or < 1) is considered here\n",
        "  is_prime = False\n",
        "\n",
        "# integer odd, even , prime\n",
        "if is_prime:\n",
        "  print (\"You gave us a prime number which is also odd\")\n",
        "elif (x % 2) == 0:\n",
        "  print (\"You gave us an even number\")\n",
        "else:\n",
        "  print (\"You gave us an odd number\")"
      ],
      "metadata": {
        "colab": {
          "base_uri": "https://localhost:8080/"
        },
        "id": "f63FyFBBIHkI",
        "outputId": "899b077f-941f-4acc-932e-980e27a164c7"
      },
      "execution_count": null,
      "outputs": [
        {
          "output_type": "stream",
          "name": "stdout",
          "text": [
            "Enter a number: 11\n",
            "You gave us a prime number\n"
          ]
        }
      ]
    },
    {
      "cell_type": "code",
      "source": [
        "# Challenge 16\n",
        "# Password Validation\n",
        "# Problem: Prompt the user to enter a password. Allow up to 3 attempts before locking them out.\n",
        "\n",
        "correct_password = 'Kenya123' # To set the passoword\n",
        "attempt = 0\n",
        "max_attempts = 3\n",
        "\n",
        "while attempts < max_attempts\n",
        "  password = input (\"Enter the password: \")\n",
        "  if password == correct_password\n",
        "    print (\"Login successful\")\n",
        "\n",
        "\n"
      ],
      "metadata": {
        "id": "_27vTITiMi1B"
      },
      "execution_count": null,
      "outputs": []
    },
    {
      "cell_type": "code",
      "source": [
        "# Challenge 17\n",
        "# Summation: Find the sum of all even numbers between 1 and 100.\n",
        "# # Using a loop to sum even numbers\n",
        "\n",
        "total_sum = 0 #for sum to start from 0\n",
        "for number in range (1,101): # sets the range to be between 1 and 100\n",
        "  if number % 2 == 0: # sets the number to an even number\n",
        "   total_sum += number # for increment with the even number\n",
        "print (f\"The sum of all even numbers between 1 and 100 is: {total_sum}\")"
      ],
      "metadata": {
        "id": "GRpc4-6IMoVo",
        "colab": {
          "base_uri": "https://localhost:8080/"
        },
        "outputId": "05d7dc35-3f11-4d33-ad84-1583ff7940c6"
      },
      "execution_count": 31,
      "outputs": [
        {
          "output_type": "stream",
          "name": "stdout",
          "text": [
            "The sum of all even numbers between 1 and 100 is: 2550\n"
          ]
        }
      ]
    },
    {
      "cell_type": "code",
      "source": [
        "# Challenge 17\n",
        "# Summation: Find the sum of all even numbers between 1 and 100.\n",
        "# # Using a loop to sum even numbers\n",
        "\n",
        "total_sum = 0 #for sum to start from 0\n",
        "for number in range (1,101): # sets the range to be between 1 and 100\n",
        "  if number % 2 == 0: # sets the number to an even number\n",
        "   total_sum += number # for increment with the even number\n",
        "print (f\"The sum of all even numbers between 1 and 100 is: {total_sum}\")"
      ],
      "metadata": {
        "colab": {
          "base_uri": "https://localhost:8080/"
        },
        "id": "Y1ZH-4bAx2oT",
        "outputId": "ca7d0e74-6e3e-48a3-ab57-4bb9d53a08bd"
      },
      "execution_count": 1,
      "outputs": [
        {
          "output_type": "stream",
          "name": "stdout",
          "text": [
            "The sum of all even numbers between 1 and 100 is: 2550\n"
          ]
        }
      ]
    }
  ],
  "metadata": {
    "colab": {
      "provenance": [],
      "include_colab_link": true
    },
    "kernelspec": {
      "display_name": "Python 3",
      "name": "python3"
    },
    "language_info": {
      "name": "python"
    }
  },
  "nbformat": 4,
  "nbformat_minor": 0
}